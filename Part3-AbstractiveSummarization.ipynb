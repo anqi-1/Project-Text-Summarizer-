{
 "cells": [
  {
   "cell_type": "markdown",
   "source": [
    "## Abstractive Summarization \n",
    "Selects the most salient sentences in the text and then rewrites them in an abstract manner, like a human\n",
    "\n",
    "Model attempts to understand the context of the text before summarizing. "
   ],
   "metadata": {}
  },
  {
   "cell_type": "code",
   "execution_count": 2,
   "source": [
    "import pandas as pd\n",
    "import matplotlib.pyplot as plt\n",
    "import transformers\n",
    "import nltk"
   ],
   "outputs": [],
   "metadata": {}
  },
  {
   "cell_type": "code",
   "execution_count": 1,
   "source": [
    "from transformers import pipeline"
   ],
   "outputs": [],
   "metadata": {}
  },
  {
   "cell_type": "code",
   "execution_count": 3,
   "source": [
    "df = pd.read_csv('part2.csv')\n",
    "df"
   ],
   "outputs": [
    {
     "output_type": "execute_result",
     "data": {
      "text/plain": [
       "      Unnamed: 0 category                                                url  \\\n",
       "0              0  Culture  /mank-citizen-kane-watch-online-stream-streami...   \n",
       "1              1  Opinion     /bidens-chance-challenge-china-opinion-1552152   \n",
       "2              2    World  /shootout-rival-mexican-cartel-gang-members-15...   \n",
       "3              3    World  /china-media-says-us-europe-tensions-inevitabl...   \n",
       "4              4  Opinion          /san-francisco-jon-ossoff-opinion-1552197   \n",
       "...          ...      ...                                                ...   \n",
       "1495        1495  My Turn  /i-am-undocumented-my-child-u-s-citizen-why-go...   \n",
       "1496        1496  Opinion  /wisconsin-no-longer-home-no-longer-safe-opini...   \n",
       "1497        1497     U.S.       /trump-coronavirus-vaccine-operation-1504551   \n",
       "1498        1498     U.S.  /tsa-check-temperatures-passengers-airports-15...   \n",
       "1499        1499     U.S.  /trump-steve-linick-mike-pompeo-investigation-...   \n",
       "\n",
       "                                                  title  \\\n",
       "0     How to Watch 'Citizen Kane' Online After You'v...   \n",
       "1                     Biden's Chance to Challenge China   \n",
       "2     Several Dead In Shootout Between Rival Mexican...   \n",
       "3     China Media Says U.S.-Europe Tensions Inevitab...   \n",
       "4                              San Francisco Jon Ossoff   \n",
       "...                                                 ...   \n",
       "1495  'I'm Undocumented, But My Child Is American. W...   \n",
       "1496  Wisconsin Is No Longer at Home—and No Longer Safe   \n",
       "1497  Trump Compares Coronavirus Vaccine Search to t...   \n",
       "1498  TSA Plan to Check Passenger Temperatures at Se...   \n",
       "1499  Trump's Firing of Steve Linick an 'Unlawful Ac...   \n",
       "\n",
       "                                                summary  \\\n",
       "0     \"Mank\" is an inventive retelling of the story ...   \n",
       "1     China's strategy is relentless, sophisticated ...   \n",
       "2     One report suggested dozens had been killed wh...   \n",
       "3     Biden said in an interview published this week...   \n",
       "4     \"San Francisco,\" not Georgia, is a more accura...   \n",
       "...                                                 ...   \n",
       "1495  I'm her mom. I must be her voice and I must fi...   \n",
       "1496  This week's Supreme Court's decision will cost...   \n",
       "1497  The president said the program will be unlike ...   \n",
       "1498  A report claims airport passenger temperature ...   \n",
       "1499  Meanwhile, Democratic lawmakers announced Satu...   \n",
       "\n",
       "                                              full_text  \\\n",
       "0     Mank sees Netflix celebrating Hollywood's gold...   \n",
       "1     When it comes to managing relations with China...   \n",
       "2     A shootout in the western Mexican state of Mic...   \n",
       "3     Chinese state media has predicted more tension...   \n",
       "4     I refer to \"San Francisco\" Jon Ossoff because ...   \n",
       "...                                                 ...   \n",
       "1495  When I first found out in March that my family...   \n",
       "1496  Here they go again. On Wednesday night, the co...   \n",
       "1497  President Donald Trump unveiled plans to find ...   \n",
       "1498  The Transportation Security Administration (TS...   \n",
       "1499  President Donald Trump fired the State Departm...   \n",
       "\n",
       "                                      extracted_summary  \n",
       "0     The Amazon synopsis for the movie gives viewer...  \n",
       "1     China will not cease its efforts to erode U.S....  \n",
       "2     The attack was said to have begun in the small...  \n",
       "3     On Thursday, the state-run Global Times newspa...  \n",
       "4     Ossoff's defense of the speeches could alienat...  \n",
       "...                                                 ...  \n",
       "1495  As an American citizen, my daughter should als...  \n",
       "1496  This is the same Republican legislature that e...  \n",
       "1497  Speaking at a press conference in the White Ho...  \n",
       "1498  \"The health and safety of our Transportation S...  \n",
       "1499  \"As is the case with regard to other positions...  \n",
       "\n",
       "[1500 rows x 7 columns]"
      ],
      "text/html": [
       "<div>\n",
       "<style scoped>\n",
       "    .dataframe tbody tr th:only-of-type {\n",
       "        vertical-align: middle;\n",
       "    }\n",
       "\n",
       "    .dataframe tbody tr th {\n",
       "        vertical-align: top;\n",
       "    }\n",
       "\n",
       "    .dataframe thead th {\n",
       "        text-align: right;\n",
       "    }\n",
       "</style>\n",
       "<table border=\"1\" class=\"dataframe\">\n",
       "  <thead>\n",
       "    <tr style=\"text-align: right;\">\n",
       "      <th></th>\n",
       "      <th>Unnamed: 0</th>\n",
       "      <th>category</th>\n",
       "      <th>url</th>\n",
       "      <th>title</th>\n",
       "      <th>summary</th>\n",
       "      <th>full_text</th>\n",
       "      <th>extracted_summary</th>\n",
       "    </tr>\n",
       "  </thead>\n",
       "  <tbody>\n",
       "    <tr>\n",
       "      <th>0</th>\n",
       "      <td>0</td>\n",
       "      <td>Culture</td>\n",
       "      <td>/mank-citizen-kane-watch-online-stream-streami...</td>\n",
       "      <td>How to Watch 'Citizen Kane' Online After You'v...</td>\n",
       "      <td>\"Mank\" is an inventive retelling of the story ...</td>\n",
       "      <td>Mank sees Netflix celebrating Hollywood's gold...</td>\n",
       "      <td>The Amazon synopsis for the movie gives viewer...</td>\n",
       "    </tr>\n",
       "    <tr>\n",
       "      <th>1</th>\n",
       "      <td>1</td>\n",
       "      <td>Opinion</td>\n",
       "      <td>/bidens-chance-challenge-china-opinion-1552152</td>\n",
       "      <td>Biden's Chance to Challenge China</td>\n",
       "      <td>China's strategy is relentless, sophisticated ...</td>\n",
       "      <td>When it comes to managing relations with China...</td>\n",
       "      <td>China will not cease its efforts to erode U.S....</td>\n",
       "    </tr>\n",
       "    <tr>\n",
       "      <th>2</th>\n",
       "      <td>2</td>\n",
       "      <td>World</td>\n",
       "      <td>/shootout-rival-mexican-cartel-gang-members-15...</td>\n",
       "      <td>Several Dead In Shootout Between Rival Mexican...</td>\n",
       "      <td>One report suggested dozens had been killed wh...</td>\n",
       "      <td>A shootout in the western Mexican state of Mic...</td>\n",
       "      <td>The attack was said to have begun in the small...</td>\n",
       "    </tr>\n",
       "    <tr>\n",
       "      <th>3</th>\n",
       "      <td>3</td>\n",
       "      <td>World</td>\n",
       "      <td>/china-media-says-us-europe-tensions-inevitabl...</td>\n",
       "      <td>China Media Says U.S.-Europe Tensions Inevitab...</td>\n",
       "      <td>Biden said in an interview published this week...</td>\n",
       "      <td>Chinese state media has predicted more tension...</td>\n",
       "      <td>On Thursday, the state-run Global Times newspa...</td>\n",
       "    </tr>\n",
       "    <tr>\n",
       "      <th>4</th>\n",
       "      <td>4</td>\n",
       "      <td>Opinion</td>\n",
       "      <td>/san-francisco-jon-ossoff-opinion-1552197</td>\n",
       "      <td>San Francisco Jon Ossoff</td>\n",
       "      <td>\"San Francisco,\" not Georgia, is a more accura...</td>\n",
       "      <td>I refer to \"San Francisco\" Jon Ossoff because ...</td>\n",
       "      <td>Ossoff's defense of the speeches could alienat...</td>\n",
       "    </tr>\n",
       "    <tr>\n",
       "      <th>...</th>\n",
       "      <td>...</td>\n",
       "      <td>...</td>\n",
       "      <td>...</td>\n",
       "      <td>...</td>\n",
       "      <td>...</td>\n",
       "      <td>...</td>\n",
       "      <td>...</td>\n",
       "    </tr>\n",
       "    <tr>\n",
       "      <th>1495</th>\n",
       "      <td>1495</td>\n",
       "      <td>My Turn</td>\n",
       "      <td>/i-am-undocumented-my-child-u-s-citizen-why-go...</td>\n",
       "      <td>'I'm Undocumented, But My Child Is American. W...</td>\n",
       "      <td>I'm her mom. I must be her voice and I must fi...</td>\n",
       "      <td>When I first found out in March that my family...</td>\n",
       "      <td>As an American citizen, my daughter should als...</td>\n",
       "    </tr>\n",
       "    <tr>\n",
       "      <th>1496</th>\n",
       "      <td>1496</td>\n",
       "      <td>Opinion</td>\n",
       "      <td>/wisconsin-no-longer-home-no-longer-safe-opini...</td>\n",
       "      <td>Wisconsin Is No Longer at Home—and No Longer Safe</td>\n",
       "      <td>This week's Supreme Court's decision will cost...</td>\n",
       "      <td>Here they go again. On Wednesday night, the co...</td>\n",
       "      <td>This is the same Republican legislature that e...</td>\n",
       "    </tr>\n",
       "    <tr>\n",
       "      <th>1497</th>\n",
       "      <td>1497</td>\n",
       "      <td>U.S.</td>\n",
       "      <td>/trump-coronavirus-vaccine-operation-1504551</td>\n",
       "      <td>Trump Compares Coronavirus Vaccine Search to t...</td>\n",
       "      <td>The president said the program will be unlike ...</td>\n",
       "      <td>President Donald Trump unveiled plans to find ...</td>\n",
       "      <td>Speaking at a press conference in the White Ho...</td>\n",
       "    </tr>\n",
       "    <tr>\n",
       "      <th>1498</th>\n",
       "      <td>1498</td>\n",
       "      <td>U.S.</td>\n",
       "      <td>/tsa-check-temperatures-passengers-airports-15...</td>\n",
       "      <td>TSA Plan to Check Passenger Temperatures at Se...</td>\n",
       "      <td>A report claims airport passenger temperature ...</td>\n",
       "      <td>The Transportation Security Administration (TS...</td>\n",
       "      <td>\"The health and safety of our Transportation S...</td>\n",
       "    </tr>\n",
       "    <tr>\n",
       "      <th>1499</th>\n",
       "      <td>1499</td>\n",
       "      <td>U.S.</td>\n",
       "      <td>/trump-steve-linick-mike-pompeo-investigation-...</td>\n",
       "      <td>Trump's Firing of Steve Linick an 'Unlawful Ac...</td>\n",
       "      <td>Meanwhile, Democratic lawmakers announced Satu...</td>\n",
       "      <td>President Donald Trump fired the State Departm...</td>\n",
       "      <td>\"As is the case with regard to other positions...</td>\n",
       "    </tr>\n",
       "  </tbody>\n",
       "</table>\n",
       "<p>1500 rows × 7 columns</p>\n",
       "</div>"
      ]
     },
     "metadata": {},
     "execution_count": 3
    }
   ],
   "metadata": {}
  },
  {
   "cell_type": "code",
   "execution_count": 4,
   "source": [
    "# Step 3: Give PEGASUS a try\n",
    "\n",
    "from transformers import PegasusTokenizer, PegasusForConditionalGeneration\n",
    "import torch\n",
    "\n",
    "model = PegasusForConditionalGeneration.from_pretrained('google/pegasus-xsum')\n",
    "tokenizer = PegasusTokenizer.from_pretrained('google/pegasus-xsum')\n",
    "\n",
    "#batch = tokenizer.prepare_seq2seq_batch(src_text, truncation=True, padding='longest', return_tensors='pt').to(torch_device)\n",
    "\n",
    "ARTICLE_TO_SUMMARIZE = ( \"PG&E stated it scheduled the blackouts in response to forecasts for high winds amid dry conditions. The aim is to\" \"reduce the risk of wildfires. Nearly 800 thousand customers were scheduled to be affected by the shutoffs which were expected to last\" \"through at least midday tomorrow.\")\n",
    "inputs = tokenizer([ARTICLE_TO_SUMMARIZE], max_length=1024, return_tensors='pt')\n",
    "\n",
    "# Generate Summary\n",
    "summary_ids = model.generate(inputs['input_ids'])\n",
    "print([tokenizer.decode(g, skip_special_tokens=True, clean_up_tokenization_spaces=False) for g in summary_ids])\n",
    "\n"
   ],
   "outputs": [
    {
     "output_type": "stream",
     "name": "stderr",
     "text": [
      "Truncation was not explicitly activated but `max_length` is provided a specific value, please use `truncation=True` to explicitly truncate examples to max length. Defaulting to 'longest_first' truncation strategy. If you encode pairs of sequences (GLUE-style) with the tokenizer you can select this strategy more precisely by providing a specific strategy to `truncation`.\n"
     ]
    },
    {
     "output_type": "stream",
     "name": "stdout",
     "text": [
      "[\"California's largest electricity provider has turned off power to hundreds of thousands of customers.\"]\n"
     ]
    }
   ],
   "metadata": {}
  },
  {
   "cell_type": "code",
   "execution_count": 5,
   "source": [
    "# Get a histogram of the number of words/tokens in each summary\n",
    "summaries = df.iloc[:,6]\n",
    "nltk.download('punkt')\n",
    "from nltk import tokenize\n",
    "import re\n",
    "\n",
    "length = []\n",
    "for summ in summaries:\n",
    "    sentence = tokenize.sent_tokenize(summ)\n",
    "\n",
    "\n",
    "    #lower caps\n",
    "    lst=[s.lower() for s in sentence]\n",
    "    #lst\n",
    "        \n",
    "    #remove non-digit char\n",
    "    new_lst = [re.sub('[^A-z]',' ',s) for s in lst]\n",
    "        \n",
    "    #split list of sentences into list of list of words\n",
    "    words = [tokenize.word_tokenize(s) for s in new_lst]\n",
    "    num_words = [len(l) for l in words]\n",
    "    sum_words = sum(num_words)\n",
    "    length.append(sum_words)\n"
   ],
   "outputs": [
    {
     "output_type": "stream",
     "name": "stderr",
     "text": [
      "[nltk_data] Downloading package punkt to /Users/yuanqi/nltk_data...\n",
      "[nltk_data]   Package punkt is already up-to-date!\n"
     ]
    }
   ],
   "metadata": {}
  },
  {
   "cell_type": "code",
   "execution_count": 6,
   "source": [
    "n, bins, patches = plt.hist(x=length, bins='auto', color='blue',\n",
    "                            alpha=0.7, rwidth=0.85)"
   ],
   "outputs": [
    {
     "output_type": "display_data",
     "data": {
      "text/plain": [
       "<Figure size 432x288 with 1 Axes>"
      ],
      "image/png": "[encoded data removed]"
     },
     "metadata": {
      "needs_background": "light"
     }
    }
   ],
   "metadata": {}
  },
  {
   "cell_type": "code",
   "execution_count": 7,
   "source": [
    "# Use PEGASUS on the first text in the DataFrame\n",
    "\n",
    "full_text = df.iloc[3][5]\n",
    "\n",
    "from transformers import PegasusTokenizer, PegasusForConditionalGeneration\n",
    "\n",
    "model = PegasusForConditionalGeneration.from_pretrained('google/pegasus-xsum')\n",
    "tokenizer = PegasusTokenizer.from_pretrained('google/pegasus-xsum')\n",
    "\n",
    "inputs = tokenizer([full_text], max_length=100, return_tensors='pt')\n",
    "\n",
    "# Generate Summary\n",
    "summary_ids = model.generate(inputs['input_ids'])\n",
    "p_summary = [tokenizer.decode(g, skip_special_tokens=True, clean_up_tokenization_spaces=False) for g in summary_ids]\n",
    "\n"
   ],
   "outputs": [
    {
     "output_type": "stream",
     "name": "stderr",
     "text": [
      "Truncation was not explicitly activated but `max_length` is provided a specific value, please use `truncation=True` to explicitly truncate examples to max length. Defaulting to 'longest_first' truncation strategy. If you encode pairs of sequences (GLUE-style) with the tokenizer you can select this strategy more precisely by providing a specific strategy to `truncation`.\n"
     ]
    }
   ],
   "metadata": {}
  },
  {
   "cell_type": "code",
   "execution_count": 10,
   "source": [
    "print(\"Article: \", full_text)\n",
    "print(\"Summary: \", p_summary[0])"
   ],
   "outputs": [
    {
     "output_type": "stream",
     "name": "stdout",
     "text": [
      "Article:  Chinese state media has predicted more tensions between the U.S. and its European allies, even under projected President-elect Joe Biden's new administration, which the veteran politician has said will put alliances and international cooperation at the core of its foreign policy. Biden has so far given little indication of how he will approach the China challenge, though on the campaign trail tried to disarm allegations that he would be soft on Beijing by promising a tougher strategy. In an interview with The New York Times published Wednesday, Biden said the \"best China strategy\" was to make sure all American allies are \"on the same page,\" something he hopes to achieve \"in the opening weeks\" of his term. Biden said his trade policies would focus on \"China's abusive practices,\" such as \"stealing intellectual property, dumping products, illegal subsidies to corporations\" and forced technology transfers. Biden said he would not make \"immediate\" moves to lift the tariffs imposed by President Donald Trump, which sparked a wide ranging trade war with Beijing. Chinese state media has been hopeful that Biden will ease up on Trump's China offensive, despite indications from the Biden team that they will hold China accountable for its trade and human rights abuses. On Thursday, the state-run Global Times newspaper responded to Biden's latest comments by predicting a continuation of the tensions between the U.S. and Europe that have run throughout Trump's term. \"Europe and the Biden team have the strong will to show their close ties after Biden assumes office,\" Global Times acknowledged. \"But the U.S. and Europe's joint response to the so-called China challenge remains a question mark.\" \"The U.S. and Europe feel uncomfortable about the West's relative decline,\" Global Times added. \"However, the U.S. feels its hegemony is being challenged by China's rise, while Europe sees more economic competition.\" This perceived difference in priority means \"it would be hard for the U.S. and Europe to coordinate to oppose the so-called China challenge,\" the newspaper said. This challenge, it claimed, is \"to a large extent, imaginary.\" \"Europe may be reluctant to promote new Western unity with the U.S. at its center, and on the basis of the Trump administration's radical policy toward China. New frictions will be inevitable. \"But if, on the other hand, Europe gets to define Western unity and the U.S. makes fewer decisions and provides more resources, then Washington will never accept it.\"\n",
      "Summary:  As the Obama administration prepares to leave the White House on 20 January, it faces the challenge of dealing with China, the world's second-largest economy.\n"
     ]
    }
   ],
   "metadata": {}
  },
  {
   "cell_type": "markdown",
   "source": [
    "## Summarization of all text"
   ],
   "metadata": {}
  },
  {
   "cell_type": "code",
   "execution_count": null,
   "source": [
    "pegasus_summary = []\n",
    "from transformers import PegasusTokenizer, PegasusForConditionalGeneration\n",
    "\n",
    "for i in range(0,500):\n",
    "\n",
    "    full_text = df.iloc[i][5]\n",
    "\n",
    "    model = PegasusForConditionalGeneration.from_pretrained('google/pegasus-xsum')\n",
    "    tokenizer = PegasusTokenizer.from_pretrained('google/pegasus-xsum')\n",
    "\n",
    "    inputs = tokenizer([full_text], max_length=100, return_tensors='pt')\n",
    "\n",
    "    # Generate Summary\n",
    "    summary_ids = model.generate(inputs['input_ids'])\n",
    "    p_summary = [tokenizer.decode(g, skip_special_tokens=True, clean_up_tokenization_spaces=False) for g in summary_ids]\n",
    "    pegasus_summary.append(p_summary[0])\n",
    "\n"
   ],
   "outputs": [],
   "metadata": {}
  },
  {
   "cell_type": "code",
   "execution_count": null,
   "source": [
    "df['pegasus_summary'] = pegasus_summary\n",
    "df.to_csv('part3.csv')"
   ],
   "outputs": [],
   "metadata": {}
  }
 ],
 "metadata": {
  "orig_nbformat": 4,
  "language_info": {
   "name": "python",
   "version": "3.8.8",
   "mimetype": "text/x-python",
   "codemirror_mode": {
    "name": "ipython",
    "version": 3
   },
   "pygments_lexer": "ipython3",
   "nbconvert_exporter": "python",
   "file_extension": ".py"
  },
  "kernelspec": {
   "name": "python3",
   "display_name": "Python 3.8.8 64-bit ('base': conda)"
  },
  "interpreter": {
   "hash": "766490984d6ee5d4583e9fbe045d72a7ce396154da8df493c4865027ca6cb4a6"
  }
 },
 "nbformat": 4,
 "nbformat_minor": 2
}